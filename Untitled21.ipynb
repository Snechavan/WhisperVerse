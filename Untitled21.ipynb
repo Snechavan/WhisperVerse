{
  "nbformat": 4,
  "nbformat_minor": 0,
  "metadata": {
    "colab": {
      "provenance": [],
      "authorship_tag": "ABX9TyNcZzLrV2jGa96jHscpbgx6",
      "include_colab_link": true
    },
    "kernelspec": {
      "name": "python3",
      "display_name": "Python 3"
    },
    "language_info": {
      "name": "python"
    }
  },
  "cells": [
    {
      "cell_type": "markdown",
      "metadata": {
        "id": "view-in-github",
        "colab_type": "text"
      },
      "source": [
        "<a href=\"https://colab.research.google.com/github/Snechavan/WhisperVerse/blob/main/Untitled21.ipynb\" target=\"_parent\"><img src=\"https://colab.research.google.com/assets/colab-badge.svg\" alt=\"Open In Colab\"/></a>"
      ]
    },
    {
      "cell_type": "code",
      "execution_count": null,
      "metadata": {
        "id": "89QLNk0yVXqi"
      },
      "outputs": [],
      "source": [
        "import random\n",
        "\n",
        "# Simple random word generation for poetry\n",
        "def generate_poem(word):\n",
        "    # Randomly choose a poetic structure with the word in different contexts\n",
        "    structures = [\n",
        "        f\"{word} dances in the {random.choice(['rain', 'wind', 'sky', 'sea'])},\",\n",
        "        f\"The {random.choice(['whispers', 'laughter', 'echoes'])} of {word} fill the air.\",\n",
        "        f\"In the stillness of night, {word} {random.choice(['sings', 'shines', 'waits'])} like a {random.choice(['star', 'dream', 'promise'])}.\",\n",
        "        f\"{word} is the melody that {random.choice(['soothes', 'awakens', 'challenges'])} the soul.\",\n",
        "        f\"The heart of {word} beats under the {random.choice(['moonlight', 'sunshine', 'fog'])}, soft yet strong.\",\n",
        "        f\"Through the mist, {word} {random.choice(['glows', 'lives', 'drifts'])}, untold and free.\"\n",
        "    ]\n",
        "\n",
        "    # Randomly pick one structure to generate the poem\n",
        "    poem = random.choice(structures)\n",
        "\n",
        "    # Adding more random creativity to the poem\n",
        "    additional_lines = [\n",
        "        f\"Like a {random.choice(['bird', 'whale', 'cloud', 'tree'])}, {word} {random.choice(['grows', 'flutters', 'moves', 'whispers'])} through time.\",\n",
        "        f\"{word} is a dream that {random.choice(['lives', 'dies', 'evolves', 'wanders'])} beneath the {random.choice(['stars', 'earth', 'waves'])}.\",\n",
        "        f\"Every word of {word} carries the weight of {random.choice(['hope', 'light', 'struggle'])} across the horizon.\"\n",
        "    ]\n",
        "\n",
        "    # Add an additional random line to the poem\n",
        "    poem += \" \" + random.choice(additional_lines)\n",
        "\n",
        "    return poem\n",
        "\n",
        "def main():\n",
        "    # User input\n",
        "    word = input(\"Enter a word: \").strip()\n",
        "\n",
        "    if not word:\n",
        "        print(\"No word entered. Please try again.\")\n",
        "        return\n",
        "\n",
        "    # Generate poem based on the input word\n",
        "    poem = generate_poem(word)\n",
        "    print(f\"\\nGenerated Poem:\\n{poem}\")\n",
        "\n",
        "if __name__ == \"__main__\":\n",
        "    main()\n"
      ]
    }
  ]
}